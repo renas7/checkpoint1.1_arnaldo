{
 "cells": [
  {
   "cell_type": "markdown",
   "metadata": {
    "id": "AsDydV59EnBQ"
   },
   "source": [
    "## Aprendizagem de máquina\n",
    "\n",
    "### Objetivos\n",
    "\n",
    "  - Avaliar os conceitos de aprendizado de maquina aprendidos no curso\n"
   ]
  },
  {
   "cell_type": "markdown",
   "metadata": {
    "id": "_41x3wQMEnBY"
   },
   "source": [
    "# Desafio\n",
    "\n",
    "Você foi contratado por uma empresa inovadora do ramo imobiliario como `QuintoAndar, Loft, Terraz, grupo Zap (ZAP, Viva Real, DataZAP, FipeZAP, SuaHouse, Geoimóvel, Sub100 e Conecta Imobi) ou Imobi Conference`. O seu desafio está no apio à tomada de decisão baseada em dados (empresa data driven). \n",
    "\n",
    "Nesse sentido, use a base de dados **aptos.csv** para realizar a descoberta do conhecimento e responder a pergunta: \n",
    "\n",
    "**`Quanto vale um apartamento de 65m2 com 2 quartos, 2 vagas, reformado no Centro?`**\n"
   ]
  },
  {
   "cell_type": "markdown",
   "metadata": {
    "id": "CTGvPWQZEnBZ"
   },
   "source": [
    "### Orientações\n",
    "\n",
    "Siga as instruções, completando e construindo os algoritmos necessários.\n",
    "\n",
    "Nas celulas` Seu Código aqui...` significa que é necessário realizar a implementação de algum código. Utilize quantos blocos(células) julgar necessário para criar o código.\n",
    "\n",
    "Nas celulas `Responda` significa que é nessário uma resposta clara e objetiva (pode ser por texto, código, gráfico, imagem...) para a pergunta."
   ]
  },
  {
   "cell_type": "markdown",
   "metadata": {
    "id": "XemQnDtgEnBa"
   },
   "source": [
    "## Rubrica para avaliação\n",
    "    \n",
    "Os critérios de avaliação do projeto segue conforme a rubrica.\n",
    "\n",
    "- R1: Exploração de Dados (Até 2 pontos)\n",
    "- R2: Análise Descritiva de Dados (Até 2 pontos)\n",
    "- R3: Desenvolvimento do Modelo (Até 2 pontos)\n",
    "- R4: Treinamento e Teste do Modelo (Até 2 pontos)\n",
    "- R5: Conclusões Finais (Até 2 pontos)\n",
    "\n",
    "**Nota_final = R1 + R2 + R3 + R4 + R5**"
   ]
  },
  {
   "cell_type": "markdown",
   "metadata": {
    "id": "Jrw76pbZEnBb"
   },
   "source": [
    "# 1. Exploração de Dados\n",
    "\n",
    "Carregue o dataset e faça uma inspeção nas 15 primeiras linhas para identificação básica dos atributos.\n"
   ]
  },
  {
   "cell_type": "code",
   "execution_count": 2,
   "metadata": {
    "id": "eboasUCqEnBc"
   },
   "outputs": [],
   "source": [
    "import seaborn as sns\n",
    "import matplotlib.pyplot as plt\n",
    "import pandas as pd\n",
    "import numpy as np\n",
    "\n",
    "%matplotlib inline"
   ]
  },
  {
   "cell_type": "code",
   "execution_count": 3,
   "metadata": {
    "id": "7v12O1ZgEnBe"
   },
   "outputs": [
    {
     "data": {
      "text/html": [
       "<div>\n",
       "<style scoped>\n",
       "    .dataframe tbody tr th:only-of-type {\n",
       "        vertical-align: middle;\n",
       "    }\n",
       "\n",
       "    .dataframe tbody tr th {\n",
       "        vertical-align: top;\n",
       "    }\n",
       "\n",
       "    .dataframe thead th {\n",
       "        text-align: right;\n",
       "    }\n",
       "</style>\n",
       "<table border=\"1\" class=\"dataframe\">\n",
       "  <thead>\n",
       "    <tr style=\"text-align: right;\">\n",
       "      <th></th>\n",
       "      <th>metros</th>\n",
       "      <th>valor</th>\n",
       "      <th>quartos</th>\n",
       "      <th>vagas</th>\n",
       "      <th>reformado</th>\n",
       "      <th>bairro</th>\n",
       "    </tr>\n",
       "  </thead>\n",
       "  <tbody>\n",
       "    <tr>\n",
       "      <th>0</th>\n",
       "      <td>107</td>\n",
       "      <td>560</td>\n",
       "      <td>3</td>\n",
       "      <td>2</td>\n",
       "      <td>0</td>\n",
       "      <td>Vila Lusitania</td>\n",
       "    </tr>\n",
       "    <tr>\n",
       "      <th>1</th>\n",
       "      <td>107</td>\n",
       "      <td>555</td>\n",
       "      <td>3</td>\n",
       "      <td>2</td>\n",
       "      <td>1</td>\n",
       "      <td>Vila Lusitania</td>\n",
       "    </tr>\n",
       "    <tr>\n",
       "      <th>2</th>\n",
       "      <td>49</td>\n",
       "      <td>196</td>\n",
       "      <td>2</td>\n",
       "      <td>1</td>\n",
       "      <td>0</td>\n",
       "      <td>Ferrazopolis</td>\n",
       "    </tr>\n",
       "    <tr>\n",
       "      <th>3</th>\n",
       "      <td>104</td>\n",
       "      <td>515</td>\n",
       "      <td>3</td>\n",
       "      <td>2</td>\n",
       "      <td>1</td>\n",
       "      <td>Centro</td>\n",
       "    </tr>\n",
       "    <tr>\n",
       "      <th>4</th>\n",
       "      <td>92</td>\n",
       "      <td>560</td>\n",
       "      <td>3</td>\n",
       "      <td>2</td>\n",
       "      <td>1</td>\n",
       "      <td>Vila Lusitania</td>\n",
       "    </tr>\n",
       "    <tr>\n",
       "      <th>5</th>\n",
       "      <td>51</td>\n",
       "      <td>249</td>\n",
       "      <td>2</td>\n",
       "      <td>1</td>\n",
       "      <td>0</td>\n",
       "      <td>Taboao</td>\n",
       "    </tr>\n",
       "    <tr>\n",
       "      <th>6</th>\n",
       "      <td>140</td>\n",
       "      <td>635</td>\n",
       "      <td>4</td>\n",
       "      <td>3</td>\n",
       "      <td>1</td>\n",
       "      <td>Centro</td>\n",
       "    </tr>\n",
       "    <tr>\n",
       "      <th>7</th>\n",
       "      <td>50</td>\n",
       "      <td>210</td>\n",
       "      <td>2</td>\n",
       "      <td>1</td>\n",
       "      <td>1</td>\n",
       "      <td>Demarchi</td>\n",
       "    </tr>\n",
       "    <tr>\n",
       "      <th>8</th>\n",
       "      <td>93</td>\n",
       "      <td>450</td>\n",
       "      <td>3</td>\n",
       "      <td>2</td>\n",
       "      <td>0</td>\n",
       "      <td>Baeta Neves</td>\n",
       "    </tr>\n",
       "    <tr>\n",
       "      <th>9</th>\n",
       "      <td>107</td>\n",
       "      <td>425</td>\n",
       "      <td>3</td>\n",
       "      <td>2</td>\n",
       "      <td>1</td>\n",
       "      <td>Rudge Ramos</td>\n",
       "    </tr>\n",
       "    <tr>\n",
       "      <th>10</th>\n",
       "      <td>100</td>\n",
       "      <td>422</td>\n",
       "      <td>3</td>\n",
       "      <td>2</td>\n",
       "      <td>1</td>\n",
       "      <td>Baeta Neves</td>\n",
       "    </tr>\n",
       "    <tr>\n",
       "      <th>11</th>\n",
       "      <td>64</td>\n",
       "      <td>250</td>\n",
       "      <td>2</td>\n",
       "      <td>1</td>\n",
       "      <td>1</td>\n",
       "      <td>Pauliceia</td>\n",
       "    </tr>\n",
       "    <tr>\n",
       "      <th>12</th>\n",
       "      <td>65</td>\n",
       "      <td>350</td>\n",
       "      <td>2</td>\n",
       "      <td>2</td>\n",
       "      <td>1</td>\n",
       "      <td>Centro</td>\n",
       "    </tr>\n",
       "    <tr>\n",
       "      <th>13</th>\n",
       "      <td>71</td>\n",
       "      <td>303</td>\n",
       "      <td>3</td>\n",
       "      <td>1</td>\n",
       "      <td>0</td>\n",
       "      <td>Centro</td>\n",
       "    </tr>\n",
       "    <tr>\n",
       "      <th>14</th>\n",
       "      <td>64</td>\n",
       "      <td>294</td>\n",
       "      <td>3</td>\n",
       "      <td>1</td>\n",
       "      <td>0</td>\n",
       "      <td>Planalto</td>\n",
       "    </tr>\n",
       "  </tbody>\n",
       "</table>\n",
       "</div>"
      ],
      "text/plain": [
       "    metros  valor  quartos  vagas  reformado          bairro\n",
       "0      107    560        3      2          0  Vila Lusitania\n",
       "1      107    555        3      2          1  Vila Lusitania\n",
       "2       49    196        2      1          0    Ferrazopolis\n",
       "3      104    515        3      2          1          Centro\n",
       "4       92    560        3      2          1  Vila Lusitania\n",
       "5       51    249        2      1          0          Taboao\n",
       "6      140    635        4      3          1          Centro\n",
       "7       50    210        2      1          1        Demarchi\n",
       "8       93    450        3      2          0     Baeta Neves\n",
       "9      107    425        3      2          1     Rudge Ramos\n",
       "10     100    422        3      2          1     Baeta Neves\n",
       "11      64    250        2      1          1       Pauliceia\n",
       "12      65    350        2      2          1          Centro\n",
       "13      71    303        3      1          0          Centro\n",
       "14      64    294        3      1          0        Planalto"
      ]
     },
     "execution_count": 3,
     "metadata": {},
     "output_type": "execute_result"
    }
   ],
   "source": [
    "#Seu Código aqui....\n",
    "\n",
    "dados = pd.read_csv('aptos.csv') # Estamos carregando o arquivo csv usando o ; como separado\n",
    "\n",
    "dados.head(15)\n"
   ]
  },
  {
   "cell_type": "code",
   "execution_count": 4,
   "metadata": {},
   "outputs": [
    {
     "name": "stdout",
     "output_type": "stream",
     "text": [
      "<class 'pandas.core.frame.DataFrame'>\n",
      "RangeIndex: 100 entries, 0 to 99\n",
      "Data columns (total 6 columns):\n",
      " #   Column     Non-Null Count  Dtype \n",
      "---  ------     --------------  ----- \n",
      " 0   metros     100 non-null    int64 \n",
      " 1   valor      100 non-null    int64 \n",
      " 2   quartos    100 non-null    int64 \n",
      " 3   vagas      100 non-null    int64 \n",
      " 4   reformado  100 non-null    int64 \n",
      " 5   bairro     100 non-null    object\n",
      "dtypes: int64(5), object(1)\n",
      "memory usage: 4.8+ KB\n"
     ]
    }
   ],
   "source": [
    "dados.info()"
   ]
  },
  {
   "cell_type": "markdown",
   "metadata": {
    "id": "Vwok27kVEnBf"
   },
   "source": [
    "### `Pergunta:` Apresente uma breve descrição do significado de cada atributo:\n",
    "\n",
    "Exemplo:\n",
    "- Idade: Idade em anos da pessoa\n",
    "- Marca: fabricante de carros\n",
    "- Combustivel: tipo de combustível (gasolina, disel...)\n",
    "- Especie: Tipo de flor iris-setosa, virginica... (Variável Alvo)\n",
    "\n",
    "\n",
    "\n",
    "\n"
   ]
  },
  {
   "cell_type": "markdown",
   "metadata": {
    "id": "S48qZORfEnBg"
   },
   "source": [
    "**Resposta:**\n",
    "\n",
    "- Metros: Corresponde a metragem dos Aptos.\n",
    "- Valor: Corresponde o valor do Apto.\n",
    "- Quartos: Corresponde a quantidade quartos que possuem os Aptos.\n",
    "- Vagas: Corresponde a quantidade vagas de garagem que possuem os Aptos.\n",
    "- Reformado: Corresponde a quantidade de apartamentos que foram reformados, on de 1 significa que foi e 0 não foi reformado.\n",
    "- Bairro: Bairro onde fica localizado o apartamento.\n"
   ]
  },
  {
   "cell_type": "markdown",
   "metadata": {
    "id": "VBQjnm8vEnBh"
   },
   "source": [
    "**Pergunta:** Cite 2 cenários que podem fazer sentido na leitura dos dados apresentados.\n",
    "\n",
    "Exemplo: \n",
    "- Eu acho que o preço da gasolina sobe com o preço do petróleo. \n",
    "- Eu acho que na média homens são mais altos que mulheres na mesma faixa etaria.  "
   ]
  },
  {
   "cell_type": "markdown",
   "metadata": {
    "id": "Zp80G6hHEnBi"
   },
   "source": [
    "**Resposta:**\n",
    "\n",
    "1. Achamos que um primeiro cenário seria Valor do Apartamento e sua localização (Bairro); \n",
    "2. No segundo cenário seria a metragem (metros) e o valor do apartamento (valor);"
   ]
  },
  {
   "cell_type": "markdown",
   "metadata": {
    "id": "VlNUKBMgEnBj"
   },
   "source": [
    "## 2. Análise descritiva de dados\n",
    "\n",
    "Faça uma análise exploratória dos dados. Utilize-se de gráficos e tabelas auxiliares, faça correlações entre os atributos.... Com o objetivo validar as afirmações levantadas acima."
   ]
  },
  {
   "cell_type": "code",
   "execution_count": 5,
   "metadata": {
    "id": "apflr7fcEnBk"
   },
   "outputs": [],
   "source": [
    "#Seu Código aqui...\n",
    "import statistics\n",
    "\n",
    "dados1 = dados.drop(columns=['metros', 'quartos', 'vagas', 'reformado'])\n",
    "dados2=dados1.dropna()"
   ]
  },
  {
   "cell_type": "code",
   "execution_count": 6,
   "metadata": {},
   "outputs": [
    {
     "data": {
      "text/html": [
       "<div>\n",
       "<style scoped>\n",
       "    .dataframe tbody tr th:only-of-type {\n",
       "        vertical-align: middle;\n",
       "    }\n",
       "\n",
       "    .dataframe tbody tr th {\n",
       "        vertical-align: top;\n",
       "    }\n",
       "\n",
       "    .dataframe thead th {\n",
       "        text-align: right;\n",
       "    }\n",
       "</style>\n",
       "<table border=\"1\" class=\"dataframe\">\n",
       "  <thead>\n",
       "    <tr style=\"text-align: right;\">\n",
       "      <th></th>\n",
       "      <th>valor</th>\n",
       "      <th>bairro</th>\n",
       "    </tr>\n",
       "  </thead>\n",
       "  <tbody>\n",
       "    <tr>\n",
       "      <th>0</th>\n",
       "      <td>560</td>\n",
       "      <td>Vila Lusitania</td>\n",
       "    </tr>\n",
       "    <tr>\n",
       "      <th>1</th>\n",
       "      <td>555</td>\n",
       "      <td>Vila Lusitania</td>\n",
       "    </tr>\n",
       "    <tr>\n",
       "      <th>2</th>\n",
       "      <td>196</td>\n",
       "      <td>Ferrazopolis</td>\n",
       "    </tr>\n",
       "    <tr>\n",
       "      <th>3</th>\n",
       "      <td>515</td>\n",
       "      <td>Centro</td>\n",
       "    </tr>\n",
       "    <tr>\n",
       "      <th>4</th>\n",
       "      <td>560</td>\n",
       "      <td>Vila Lusitania</td>\n",
       "    </tr>\n",
       "    <tr>\n",
       "      <th>...</th>\n",
       "      <td>...</td>\n",
       "      <td>...</td>\n",
       "    </tr>\n",
       "    <tr>\n",
       "      <th>95</th>\n",
       "      <td>422</td>\n",
       "      <td>Baeta Neves</td>\n",
       "    </tr>\n",
       "    <tr>\n",
       "      <th>96</th>\n",
       "      <td>659</td>\n",
       "      <td>Rudge Ramos</td>\n",
       "    </tr>\n",
       "    <tr>\n",
       "      <th>97</th>\n",
       "      <td>200</td>\n",
       "      <td>Iraja</td>\n",
       "    </tr>\n",
       "    <tr>\n",
       "      <th>98</th>\n",
       "      <td>220</td>\n",
       "      <td>Santa Teresinha</td>\n",
       "    </tr>\n",
       "    <tr>\n",
       "      <th>99</th>\n",
       "      <td>200</td>\n",
       "      <td>Santa Teresinha</td>\n",
       "    </tr>\n",
       "  </tbody>\n",
       "</table>\n",
       "<p>100 rows × 2 columns</p>\n",
       "</div>"
      ],
      "text/plain": [
       "    valor           bairro\n",
       "0     560   Vila Lusitania\n",
       "1     555   Vila Lusitania\n",
       "2     196     Ferrazopolis\n",
       "3     515           Centro\n",
       "4     560   Vila Lusitania\n",
       "..    ...              ...\n",
       "95    422      Baeta Neves\n",
       "96    659      Rudge Ramos\n",
       "97    200            Iraja\n",
       "98    220  Santa Teresinha\n",
       "99    200  Santa Teresinha\n",
       "\n",
       "[100 rows x 2 columns]"
      ]
     },
     "execution_count": 6,
     "metadata": {},
     "output_type": "execute_result"
    }
   ],
   "source": [
    "dados2"
   ]
  },
  {
   "cell_type": "code",
   "execution_count": 7,
   "metadata": {},
   "outputs": [
    {
     "data": {
      "text/html": [
       "<div>\n",
       "<style scoped>\n",
       "    .dataframe tbody tr th:only-of-type {\n",
       "        vertical-align: middle;\n",
       "    }\n",
       "\n",
       "    .dataframe tbody tr th {\n",
       "        vertical-align: top;\n",
       "    }\n",
       "\n",
       "    .dataframe thead th {\n",
       "        text-align: right;\n",
       "    }\n",
       "</style>\n",
       "<table border=\"1\" class=\"dataframe\">\n",
       "  <thead>\n",
       "    <tr style=\"text-align: right;\">\n",
       "      <th></th>\n",
       "      <th>valor</th>\n",
       "    </tr>\n",
       "    <tr>\n",
       "      <th>bairro</th>\n",
       "      <th></th>\n",
       "    </tr>\n",
       "  </thead>\n",
       "  <tbody>\n",
       "    <tr>\n",
       "      <th>Assuncao</th>\n",
       "      <td>259.000000</td>\n",
       "    </tr>\n",
       "    <tr>\n",
       "      <th>Baeta Neves</th>\n",
       "      <td>511.133333</td>\n",
       "    </tr>\n",
       "    <tr>\n",
       "      <th>Centro</th>\n",
       "      <td>479.862069</td>\n",
       "    </tr>\n",
       "    <tr>\n",
       "      <th>Demarchi</th>\n",
       "      <td>229.400000</td>\n",
       "    </tr>\n",
       "    <tr>\n",
       "      <th>Ferrazopolis</th>\n",
       "      <td>204.000000</td>\n",
       "    </tr>\n",
       "    <tr>\n",
       "      <th>Independencia</th>\n",
       "      <td>359.000000</td>\n",
       "    </tr>\n",
       "    <tr>\n",
       "      <th>Iraja</th>\n",
       "      <td>197.500000</td>\n",
       "    </tr>\n",
       "    <tr>\n",
       "      <th>Jardim do Mar</th>\n",
       "      <td>807.500000</td>\n",
       "    </tr>\n",
       "    <tr>\n",
       "      <th>Jordanopolis</th>\n",
       "      <td>245.000000</td>\n",
       "    </tr>\n",
       "    <tr>\n",
       "      <th>Nova Petropolis</th>\n",
       "      <td>450.000000</td>\n",
       "    </tr>\n",
       "    <tr>\n",
       "      <th>Pauliceia</th>\n",
       "      <td>230.000000</td>\n",
       "    </tr>\n",
       "    <tr>\n",
       "      <th>Piraporinha</th>\n",
       "      <td>367.000000</td>\n",
       "    </tr>\n",
       "    <tr>\n",
       "      <th>Planalto</th>\n",
       "      <td>261.250000</td>\n",
       "    </tr>\n",
       "    <tr>\n",
       "      <th>Rudge Ramos</th>\n",
       "      <td>375.875000</td>\n",
       "    </tr>\n",
       "    <tr>\n",
       "      <th>Santa Teresinha</th>\n",
       "      <td>210.000000</td>\n",
       "    </tr>\n",
       "    <tr>\n",
       "      <th>Taboao</th>\n",
       "      <td>261.000000</td>\n",
       "    </tr>\n",
       "    <tr>\n",
       "      <th>Vila Lusitania</th>\n",
       "      <td>564.166667</td>\n",
       "    </tr>\n",
       "  </tbody>\n",
       "</table>\n",
       "</div>"
      ],
      "text/plain": [
       "                      valor\n",
       "bairro                     \n",
       "Assuncao         259.000000\n",
       "Baeta Neves      511.133333\n",
       "Centro           479.862069\n",
       "Demarchi         229.400000\n",
       "Ferrazopolis     204.000000\n",
       "Independencia    359.000000\n",
       "Iraja            197.500000\n",
       "Jardim do Mar    807.500000\n",
       "Jordanopolis     245.000000\n",
       "Nova Petropolis  450.000000\n",
       "Pauliceia        230.000000\n",
       "Piraporinha      367.000000\n",
       "Planalto         261.250000\n",
       "Rudge Ramos      375.875000\n",
       "Santa Teresinha  210.000000\n",
       "Taboao           261.000000\n",
       "Vila Lusitania   564.166667"
      ]
     },
     "execution_count": 7,
     "metadata": {},
     "output_type": "execute_result"
    }
   ],
   "source": [
    "dados2.groupby('bairro').mean()"
   ]
  },
  {
   "cell_type": "code",
   "execution_count": 8,
   "metadata": {},
   "outputs": [
    {
     "name": "stdout",
     "output_type": "stream",
     "text": [
      "             valor\n",
      "metros            \n",
      "43      300.000000\n",
      "45      215.000000\n",
      "48      217.000000\n",
      "49      196.000000\n",
      "50      210.400000\n",
      "51      249.000000\n",
      "52      272.000000\n",
      "53      261.000000\n",
      "54      258.500000\n",
      "55      244.400000\n",
      "56      242.000000\n",
      "57      238.500000\n",
      "58      197.500000\n",
      "60      360.000000\n",
      "62      275.000000\n",
      "64      286.333333\n",
      "65      320.000000\n",
      "67      250.000000\n",
      "68      300.000000\n",
      "70      338.666667\n",
      "71      322.666667\n",
      "73      365.000000\n",
      "74      259.000000\n",
      "77      390.000000\n",
      "80      399.800000\n",
      "81      485.000000\n",
      "84      509.000000\n",
      "85      580.000000\n",
      "86      460.000000\n",
      "88      520.000000\n",
      "90      480.000000\n",
      "91      545.000000\n",
      "92      560.000000\n",
      "93      465.166667\n",
      "94      515.000000\n",
      "100     504.800000\n",
      "104     480.000000\n",
      "105     659.000000\n",
      "106     611.500000\n",
      "107     545.000000\n",
      "113     525.000000\n",
      "116     750.000000\n",
      "130     875.000000\n",
      "140     635.000000\n",
      "147     798.000000\n",
      "150     807.500000\n",
      "199     880.000000\n"
     ]
    },
    {
     "data": {
      "text/html": [
       "<div>\n",
       "<style scoped>\n",
       "    .dataframe tbody tr th:only-of-type {\n",
       "        vertical-align: middle;\n",
       "    }\n",
       "\n",
       "    .dataframe tbody tr th {\n",
       "        vertical-align: top;\n",
       "    }\n",
       "\n",
       "    .dataframe thead th {\n",
       "        text-align: right;\n",
       "    }\n",
       "</style>\n",
       "<table border=\"1\" class=\"dataframe\">\n",
       "  <thead>\n",
       "    <tr style=\"text-align: right;\">\n",
       "      <th></th>\n",
       "      <th>valor</th>\n",
       "    </tr>\n",
       "    <tr>\n",
       "      <th>metros</th>\n",
       "      <th></th>\n",
       "    </tr>\n",
       "  </thead>\n",
       "  <tbody>\n",
       "    <tr>\n",
       "      <th>43</th>\n",
       "      <td>300.000000</td>\n",
       "    </tr>\n",
       "    <tr>\n",
       "      <th>45</th>\n",
       "      <td>215.000000</td>\n",
       "    </tr>\n",
       "    <tr>\n",
       "      <th>48</th>\n",
       "      <td>217.000000</td>\n",
       "    </tr>\n",
       "    <tr>\n",
       "      <th>49</th>\n",
       "      <td>196.000000</td>\n",
       "    </tr>\n",
       "    <tr>\n",
       "      <th>50</th>\n",
       "      <td>210.400000</td>\n",
       "    </tr>\n",
       "    <tr>\n",
       "      <th>51</th>\n",
       "      <td>249.000000</td>\n",
       "    </tr>\n",
       "    <tr>\n",
       "      <th>52</th>\n",
       "      <td>272.000000</td>\n",
       "    </tr>\n",
       "    <tr>\n",
       "      <th>53</th>\n",
       "      <td>261.000000</td>\n",
       "    </tr>\n",
       "    <tr>\n",
       "      <th>54</th>\n",
       "      <td>258.500000</td>\n",
       "    </tr>\n",
       "    <tr>\n",
       "      <th>55</th>\n",
       "      <td>244.400000</td>\n",
       "    </tr>\n",
       "    <tr>\n",
       "      <th>56</th>\n",
       "      <td>242.000000</td>\n",
       "    </tr>\n",
       "    <tr>\n",
       "      <th>57</th>\n",
       "      <td>238.500000</td>\n",
       "    </tr>\n",
       "    <tr>\n",
       "      <th>58</th>\n",
       "      <td>197.500000</td>\n",
       "    </tr>\n",
       "    <tr>\n",
       "      <th>60</th>\n",
       "      <td>360.000000</td>\n",
       "    </tr>\n",
       "    <tr>\n",
       "      <th>62</th>\n",
       "      <td>275.000000</td>\n",
       "    </tr>\n",
       "    <tr>\n",
       "      <th>64</th>\n",
       "      <td>286.333333</td>\n",
       "    </tr>\n",
       "    <tr>\n",
       "      <th>65</th>\n",
       "      <td>320.000000</td>\n",
       "    </tr>\n",
       "    <tr>\n",
       "      <th>67</th>\n",
       "      <td>250.000000</td>\n",
       "    </tr>\n",
       "    <tr>\n",
       "      <th>68</th>\n",
       "      <td>300.000000</td>\n",
       "    </tr>\n",
       "    <tr>\n",
       "      <th>70</th>\n",
       "      <td>338.666667</td>\n",
       "    </tr>\n",
       "    <tr>\n",
       "      <th>71</th>\n",
       "      <td>322.666667</td>\n",
       "    </tr>\n",
       "    <tr>\n",
       "      <th>73</th>\n",
       "      <td>365.000000</td>\n",
       "    </tr>\n",
       "    <tr>\n",
       "      <th>74</th>\n",
       "      <td>259.000000</td>\n",
       "    </tr>\n",
       "    <tr>\n",
       "      <th>77</th>\n",
       "      <td>390.000000</td>\n",
       "    </tr>\n",
       "    <tr>\n",
       "      <th>80</th>\n",
       "      <td>399.800000</td>\n",
       "    </tr>\n",
       "    <tr>\n",
       "      <th>81</th>\n",
       "      <td>485.000000</td>\n",
       "    </tr>\n",
       "    <tr>\n",
       "      <th>84</th>\n",
       "      <td>509.000000</td>\n",
       "    </tr>\n",
       "    <tr>\n",
       "      <th>85</th>\n",
       "      <td>580.000000</td>\n",
       "    </tr>\n",
       "    <tr>\n",
       "      <th>86</th>\n",
       "      <td>460.000000</td>\n",
       "    </tr>\n",
       "    <tr>\n",
       "      <th>88</th>\n",
       "      <td>520.000000</td>\n",
       "    </tr>\n",
       "    <tr>\n",
       "      <th>90</th>\n",
       "      <td>480.000000</td>\n",
       "    </tr>\n",
       "    <tr>\n",
       "      <th>91</th>\n",
       "      <td>545.000000</td>\n",
       "    </tr>\n",
       "    <tr>\n",
       "      <th>92</th>\n",
       "      <td>560.000000</td>\n",
       "    </tr>\n",
       "    <tr>\n",
       "      <th>93</th>\n",
       "      <td>465.166667</td>\n",
       "    </tr>\n",
       "    <tr>\n",
       "      <th>94</th>\n",
       "      <td>515.000000</td>\n",
       "    </tr>\n",
       "    <tr>\n",
       "      <th>100</th>\n",
       "      <td>504.800000</td>\n",
       "    </tr>\n",
       "    <tr>\n",
       "      <th>104</th>\n",
       "      <td>480.000000</td>\n",
       "    </tr>\n",
       "    <tr>\n",
       "      <th>105</th>\n",
       "      <td>659.000000</td>\n",
       "    </tr>\n",
       "    <tr>\n",
       "      <th>106</th>\n",
       "      <td>611.500000</td>\n",
       "    </tr>\n",
       "    <tr>\n",
       "      <th>107</th>\n",
       "      <td>545.000000</td>\n",
       "    </tr>\n",
       "    <tr>\n",
       "      <th>113</th>\n",
       "      <td>525.000000</td>\n",
       "    </tr>\n",
       "    <tr>\n",
       "      <th>116</th>\n",
       "      <td>750.000000</td>\n",
       "    </tr>\n",
       "    <tr>\n",
       "      <th>130</th>\n",
       "      <td>875.000000</td>\n",
       "    </tr>\n",
       "    <tr>\n",
       "      <th>140</th>\n",
       "      <td>635.000000</td>\n",
       "    </tr>\n",
       "    <tr>\n",
       "      <th>147</th>\n",
       "      <td>798.000000</td>\n",
       "    </tr>\n",
       "    <tr>\n",
       "      <th>150</th>\n",
       "      <td>807.500000</td>\n",
       "    </tr>\n",
       "    <tr>\n",
       "      <th>199</th>\n",
       "      <td>880.000000</td>\n",
       "    </tr>\n",
       "  </tbody>\n",
       "</table>\n",
       "</div>"
      ],
      "text/plain": [
       "             valor\n",
       "metros            \n",
       "43      300.000000\n",
       "45      215.000000\n",
       "48      217.000000\n",
       "49      196.000000\n",
       "50      210.400000\n",
       "51      249.000000\n",
       "52      272.000000\n",
       "53      261.000000\n",
       "54      258.500000\n",
       "55      244.400000\n",
       "56      242.000000\n",
       "57      238.500000\n",
       "58      197.500000\n",
       "60      360.000000\n",
       "62      275.000000\n",
       "64      286.333333\n",
       "65      320.000000\n",
       "67      250.000000\n",
       "68      300.000000\n",
       "70      338.666667\n",
       "71      322.666667\n",
       "73      365.000000\n",
       "74      259.000000\n",
       "77      390.000000\n",
       "80      399.800000\n",
       "81      485.000000\n",
       "84      509.000000\n",
       "85      580.000000\n",
       "86      460.000000\n",
       "88      520.000000\n",
       "90      480.000000\n",
       "91      545.000000\n",
       "92      560.000000\n",
       "93      465.166667\n",
       "94      515.000000\n",
       "100     504.800000\n",
       "104     480.000000\n",
       "105     659.000000\n",
       "106     611.500000\n",
       "107     545.000000\n",
       "113     525.000000\n",
       "116     750.000000\n",
       "130     875.000000\n",
       "140     635.000000\n",
       "147     798.000000\n",
       "150     807.500000\n",
       "199     880.000000"
      ]
     },
     "execution_count": 8,
     "metadata": {},
     "output_type": "execute_result"
    }
   ],
   "source": [
    "dados3 = dados.drop(columns=['bairro', 'quartos', 'vagas', 'reformado'])\n",
    "dados4=dados3.dropna()\n",
    "media_metros = dados4.groupby('metros').mean()\n",
    "print(media_metros)\n",
    "\n",
    "dados4.groupby('metros').mean()"
   ]
  },
  {
   "cell_type": "code",
   "execution_count": 9,
   "metadata": {},
   "outputs": [],
   "source": [
    "dados1 = dados.drop(columns=['metros', 'quartos', 'vagas', 'reformado'])\n",
    "dados2=dados1.dropna()"
   ]
  },
  {
   "cell_type": "code",
   "execution_count": 10,
   "metadata": {},
   "outputs": [
    {
     "name": "stdout",
     "output_type": "stream",
     "text": [
      "                      valor\n",
      "bairro                     \n",
      "Assuncao         259.000000\n",
      "Baeta Neves      511.133333\n",
      "Centro           479.862069\n",
      "Demarchi         229.400000\n",
      "Ferrazopolis     204.000000\n",
      "Independencia    359.000000\n",
      "Iraja            197.500000\n",
      "Jardim do Mar    807.500000\n",
      "Jordanopolis     245.000000\n",
      "Nova Petropolis  450.000000\n",
      "Pauliceia        230.000000\n",
      "Piraporinha      367.000000\n",
      "Planalto         261.250000\n",
      "Rudge Ramos      375.875000\n",
      "Santa Teresinha  210.000000\n",
      "Taboao           261.000000\n",
      "Vila Lusitania   564.166667\n"
     ]
    }
   ],
   "source": [
    "media_bairro =dados2.groupby('bairro').mean()\n",
    "print(media_bairro)"
   ]
  },
  {
   "cell_type": "code",
   "execution_count": 11,
   "metadata": {},
   "outputs": [
    {
     "data": {
      "text/plain": [
       "<AxesSubplot:xlabel='bairro', ylabel='valor'>"
      ]
     },
     "execution_count": 11,
     "metadata": {},
     "output_type": "execute_result"
    },
    {
     "data": {
      "image/png": "[encoded data removed]",
      "text/plain": [
       "<Figure size 2016x432 with 1 Axes>"
      ]
     },
     "metadata": {
      "needs_background": "light"
     },
     "output_type": "display_data"
    }
   ],
   "source": [
    "dados.plot.scatter('bairro', 'valor',figsize=(28,6)) #variação de preço por bairro\n"
   ]
  },
  {
   "cell_type": "code",
   "execution_count": 24,
   "metadata": {
    "id": "md1hjlgxEnBk"
   },
   "outputs": [
    {
     "data": {
      "image/png": "[encoded data removed]",
      "text/plain": [
       "<Figure size 432x288 with 1 Axes>"
      ]
     },
     "metadata": {
      "needs_background": "light"
     },
     "output_type": "display_data"
    }
   ],
   "source": [
    "import matplotlib.pyplot as plt\n",
    "\n",
    "plt.plot(media_metros) #média de preço por tamanho do imóvel\n",
    "plt.show()"
   ]
  },
  {
   "cell_type": "markdown",
   "metadata": {
    "id": "QFMnZ_R5EnBl"
   },
   "source": [
    "### __(BONUS: 1 ponto extra.)__ Análise de Outliers\n",
    "*Esse é um ponto extra, faça se quiser...\n",
    "\n",
    "Realize a análise e o tratamento de **outliers**, como referência para estudo:\n",
    "\n",
    "* [link1](https://machinelearningmastery.com/model-based-outlier-detection-and-removal-in-python/)\n",
    "* [link2](https://towardsdatascience.com/4-machine-learning-techniques-for-outlier-detection-in-python-21e9cfacb81d)\n",
    "* [link3](https://minerandodados.com.br/tratando-outliers-python/)\n",
    "\n",
    "**Pergunta:** Foram localizados outliers? Qual o método de análise adotado? Se existe, como os dados foram tratados (foram removidos ou mantidos)? "
   ]
  },
  {
   "cell_type": "markdown",
   "metadata": {
    "id": "aEBq3jZKEnBl"
   },
   "source": [
    "## 3. Desenvolvimento do Modelo"
   ]
  },
  {
   "cell_type": "markdown",
   "metadata": {
    "id": "wW2R15MjEnBm"
   },
   "source": [
    "**Pergunta:** O conjunto de dados indica a aplicação de qual modelo de aprendizagem de maquina para determinação do valor de um imóvel? Por que ? "
   ]
  },
  {
   "cell_type": "markdown",
   "metadata": {
    "id": "qV22-xMpEnBm"
   },
   "source": [
    "**Resposta:**\n",
    "\n",
    "    [ ] Aprendizado por reforço\n",
    "    [X] Aprendizado supervisionado\n",
    "    [ ] Aprendizado não supervisionado\n",
    "    \n",
    "    Porque envolve o aprendizado de uma “função” a partir de exemplos de entrada e saída, fornecidos por um tutor(especialista)."
   ]
  },
  {
   "cell_type": "markdown",
   "metadata": {
    "id": "oijxNQnWEnBn"
   },
   "source": [
    "**Pergunta:** Qual a técnica sugerida para este projeto?"
   ]
  },
  {
   "cell_type": "markdown",
   "metadata": {
    "id": "7gfXFr3cEnBn"
   },
   "source": [
    "**Resposta:**\n",
    "\n",
    "    [X] Regressão\n",
    "    [ ] Classificação\n",
    "    [ ] Clusterização"
   ]
  },
  {
   "cell_type": "markdown",
   "metadata": {
    "id": "GCNZREN8EnBn"
   },
   "source": [
    "**Pergunta:** Escolha 2 modelos de algoritmos para testar a performance de cada um deles."
   ]
  },
  {
   "cell_type": "markdown",
   "metadata": {
    "id": "-JaS9wt1EnBo"
   },
   "source": [
    "**Resposta:**\n",
    "\n",
    "1. algoritimo: R2\n",
    "2. algoritimo: MAE"
   ]
  },
  {
   "cell_type": "markdown",
   "metadata": {
    "id": "xwiwcazSEnBo"
   },
   "source": [
    "__(BONUS: 1 ponto extra.)__ **Pergunta:** Explique como cada algoritmo funciona.\n"
   ]
  },
  {
   "cell_type": "markdown",
   "metadata": {
    "id": "3d2zeM5MEnBo"
   },
   "source": [
    "**Resposta:**\n",
    "\n",
    "1. algoritimo. **O R2 é utilizado para verificar se a regressão produz uma curva que segue bem os dados. Quanto mais próximo de 1, melhor o resultado.**\n",
    "2. algoritimo ...**O MAE calcula o valor dos resíduos para cada um dos pontos e depois é tirado a média de todos esses resíduos.** "
   ]
  },
  {
   "cell_type": "markdown",
   "metadata": {
    "id": "GCyIFM2-EnBp"
   },
   "source": [
    "## 4. Treinamento e teste do modelo"
   ]
  },
  {
   "cell_type": "markdown",
   "metadata": {},
   "source": [
    "Crie um subset dos dados apenas com os atributos que serão utilizados para o treinameno e teste do modelo. Divida o subset em conjunto de treinamento e teste."
   ]
  },
  {
   "cell_type": "markdown",
   "metadata": {
    "id": "zAmwkQ8fEnBp"
   },
   "source": [
    "Faça o treinamento e teste dos 2 algoritmos escolhidos. Utilize uma métrica (ex. R2-score, RMSE e MAE...) para avaliar a performance dos modelos."
   ]
  },
  {
   "cell_type": "code",
   "execution_count": 25,
   "metadata": {},
   "outputs": [],
   "source": [
    "from sklearn.model_selection import train_test_split\n",
    "from sklearn.ensemble import RandomForestClassifier\n",
    "from sklearn.model_selection import train_test_split \n",
    "from sklearn.metrics import f1_score, accuracy_score, precision_score, recall_score, classification_report"
   ]
  },
  {
   "cell_type": "code",
   "execution_count": 26,
   "metadata": {},
   "outputs": [],
   "source": [
    "#Conjunto de treinamento do Algoritmo 1.\n",
    "\n",
    "x=dados.drop(columns = ['quartos', 'reformado', 'vagas', 'bairro', 'valor'])\n",
    "y=dados['valor']\n",
    "\n",
    "x_train, x_test, y_train, y_test = train_test_split(x,y,test_size  = 0.20, random_state = 42)"
   ]
  },
  {
   "cell_type": "code",
   "execution_count": 27,
   "metadata": {},
   "outputs": [],
   "source": [
    "#Conjunto de treinamento do Algoritmo 1.\n",
    "\n",
    "dados5 = dados"
   ]
  },
  {
   "cell_type": "code",
   "execution_count": 28,
   "metadata": {},
   "outputs": [],
   "source": [
    "a=dados5.drop(columns = ['quartos', 'reformado', 'vagas', 'bairro', 'metros'])\n",
    "b=dados5['quartos']\n",
    "a_train, a_test, b_train, b_test = train_test_split(a,b,test_size  = 0.20, random_state = 42)"
   ]
  },
  {
   "cell_type": "markdown",
   "metadata": {
    "id": "FIgJ9zIpEnBq"
   },
   "source": [
    "### Algoritmo 1"
   ]
  },
  {
   "cell_type": "code",
   "execution_count": 29,
   "metadata": {},
   "outputs": [
    {
     "data": {
      "text/plain": [
       "LinearRegression()"
      ]
     },
     "execution_count": 29,
     "metadata": {},
     "output_type": "execute_result"
    }
   ],
   "source": [
    "from sklearn.linear_model import LinearRegression\n",
    "\n",
    "lr = LinearRegression() \n",
    "\n",
    "lr.fit(x_train,y_train)"
   ]
  },
  {
   "cell_type": "code",
   "execution_count": 30,
   "metadata": {},
   "outputs": [],
   "source": [
    "y_predicoes = lr.predict(x_test)"
   ]
  },
  {
   "cell_type": "code",
   "execution_count": 31,
   "metadata": {
    "id": "NHdh-Lw2EnBq"
   },
   "outputs": [
    {
     "name": "stdout",
     "output_type": "stream",
     "text": [
      "R2:  0.8291553999252744\n"
     ]
    }
   ],
   "source": [
    "R2 = r2_score(y_true = y_test,      \n",
    "              y_pred = y_predicoes) \n",
    "print('R2: ', R2)"
   ]
  },
  {
   "cell_type": "markdown",
   "metadata": {
    "id": "EKn6sHPLEnBq"
   },
   "source": [
    "### Algoritmo 2"
   ]
  },
  {
   "cell_type": "code",
   "execution_count": 32,
   "metadata": {
    "id": "rhYgY1pAEnBq"
   },
   "outputs": [
    {
     "data": {
      "text/plain": [
       "LinearRegression()"
      ]
     },
     "execution_count": 32,
     "metadata": {},
     "output_type": "execute_result"
    }
   ],
   "source": [
    "from sklearn.linear_model import LinearRegression\n",
    "\n",
    "lr1 = LinearRegression() \n",
    "\n",
    "lr1.fit(a_train,b_train)\n"
   ]
  },
  {
   "cell_type": "code",
   "execution_count": 33,
   "metadata": {},
   "outputs": [],
   "source": [
    "y_predicoes1 = lr1.predict(a_test)"
   ]
  },
  {
   "cell_type": "code",
   "execution_count": 34,
   "metadata": {},
   "outputs": [
    {
     "name": "stdout",
     "output_type": "stream",
     "text": [
      "MAE:  0.3040994809180808\n"
     ]
    }
   ],
   "source": [
    "MAE = mean_absolute_error(y_true = b_test,      # Gabarito\n",
    "                          y_pred = y_predicoes1) # Respostas do algoritmo ao teste realizado\n",
    "print('MAE: ', MAE)"
   ]
  },
  {
   "cell_type": "markdown",
   "metadata": {
    "id": "iMhimFG6EnBq"
   },
   "source": [
    "Sumarize na tabela abaixo os resultados obtidos para os conjuntos de dados de treino e de teste"
   ]
  },
  {
   "cell_type": "markdown",
   "metadata": {
    "id": "Emdn0twUEnBr"
   },
   "source": [
    "**Resposta:**\n",
    "\n",
    "|    | algoritmo1 | algoritmo2 |\n",
    "|:---:|:---:|:---:|\n",
    "| treino | valor | valor |\n",
    "| teste  | metros | quartos |"
   ]
  },
  {
   "cell_type": "markdown",
   "metadata": {
    "id": "6GRyUOHQEnBr"
   },
   "source": [
    "**Pergunta:** Qual dos algoritmos obteve um resultado melhor? Justifique\n",
    "\n",
    "**Resposta:** O algoritmo 1 teve melhor resultado, pois foi o que mais se aproximou de 1.0."
   ]
  },
  {
   "cell_type": "markdown",
   "metadata": {
    "id": "CSV86VhSEnBr"
   },
   "source": [
    "## Modelo de produção: Teste com novos dados\n",
    "\n",
    "Use seu modelo treinado para determinar: \n",
    "\n",
    "**`Quanto vale um apartamento de 65m2 com 2 quartos, 2 vagas, reformado no Centro?`**"
   ]
  },
  {
   "cell_type": "code",
   "execution_count": 35,
   "metadata": {
    "id": "NC-SxVDeEnBr"
   },
   "outputs": [
    {
     "data": {
      "text/plain": [
       "LinearRegression()"
      ]
     },
     "execution_count": 35,
     "metadata": {},
     "output_type": "execute_result"
    }
   ],
   "source": [
    "# Importa a biblioteca\n",
    "from sklearn.linear_model import LinearRegression\n",
    "from sklearn.metrics import mean_squared_error\n",
    "\n",
    "# Cria o modelo de regressão \n",
    "lin_model = LinearRegression()\n",
    "\n",
    "# Cria o modelo de machine learning\n",
    "lin_model.fit(x_train, y_train)\n"
   ]
  },
  {
   "cell_type": "code",
   "execution_count": 36,
   "metadata": {},
   "outputs": [
    {
     "name": "stdout",
     "output_type": "stream",
     "text": [
      "Predição usando regressão, retorna valores continuos: [269.36329254 472.7374868  297.60970841 258.0647262  263.71400937\n",
      " 427.54322141 314.55755793 433.19250458 512.28246901 551.82745123\n",
      " 399.29680554 777.79877818 218.51974398 348.45325698 444.49107093\n",
      " 467.08820363 342.8039738  314.55755793 314.55755793 365.4011065 ]\n"
     ]
    }
   ],
   "source": [
    "# Para obter as previsões, basta chamar o método predict()\n",
    "y_teste_predito = lin_model.predict(x_test)\n",
    "print(\"Predição usando regressão, retorna valores continuos: {}\".format(y_teste_predito))\n"
   ]
  },
  {
   "cell_type": "code",
   "execution_count": 37,
   "metadata": {},
   "outputs": [
    {
     "data": {
      "text/plain": [
       "Text(0, 0.5, 'Valor Predito')"
      ]
     },
     "execution_count": 37,
     "metadata": {},
     "output_type": "execute_result"
    },
    {
     "data": {
      "image/png": "[encoded data removed]",
      "text/plain": [
       "<Figure size 432x288 with 1 Axes>"
      ]
     },
     "metadata": {
      "needs_background": "light"
     },
     "output_type": "display_data"
    }
   ],
   "source": [
    "plt.scatter(y_test,y_teste_predito)\n",
    "plt.xlabel('Valor Real')\n",
    "plt.ylabel('Valor Predito')"
   ]
  },
  {
   "cell_type": "code",
   "execution_count": 38,
   "metadata": {},
   "outputs": [
    {
     "data": {
      "image/png": "[encoded data removed]",
      "text/plain": [
       "<Figure size 432x288 with 1 Axes>"
      ]
     },
     "metadata": {
      "needs_background": "light"
     },
     "output_type": "display_data"
    }
   ],
   "source": [
    "# plot prediction and actual data\n",
    "y_teste_predito = lin_model.predict(x_test)\n",
    "\n",
    "plt.plot(y_test, y_teste_predito, '.')\n",
    "\n",
    "# plot a line, a perfit predict would all fall on this line\n",
    "x = np.linspace(0, 50, 100)\n",
    "y = x\n",
    "plt.plot(x, y)\n",
    "plt.show()"
   ]
  },
  {
   "cell_type": "code",
   "execution_count": 39,
   "metadata": {},
   "outputs": [
    {
     "name": "stdout",
     "output_type": "stream",
     "text": [
      "Soma dos Erros ao Quadrado (SSE): \n",
      "Erro Quadrático Médio (MSE): 3975.75\n",
      "Erro Médio Absoluto (MAE): 50.19\n",
      "Raiz do Erro Quadrático Médio (RMSE): 63.05 \n",
      "R2-score: 0.75\n"
     ]
    }
   ],
   "source": [
    "from sklearn.metrics import r2_score, mean_squared_error,mean_absolute_error\n",
    "import numpy as np\n",
    "\n",
    "print(\"Soma dos Erros ao Quadrado (SSE): \" % np.sum((y_teste_predito - y_test)**2))\n",
    "print(\"Erro Quadrático Médio (MSE): %.2f\" % mean_squared_error(y_test, y_teste_predito))\n",
    "print(\"Erro Médio Absoluto (MAE): %.2f\" % mean_absolute_error(y_test, y_teste_predito))\n",
    "print (\"Raiz do Erro Quadrático Médio (RMSE): %.2f \" % np.sqrt(mean_squared_error(y_test, y_teste_predito)))\n",
    "print(\"R2-score: %.2f\" % r2_score(y_teste_predito , y_test) )"
   ]
  },
  {
   "cell_type": "code",
   "execution_count": null,
   "metadata": {},
   "outputs": [],
   "source": []
  },
  {
   "cell_type": "markdown",
   "metadata": {
    "id": "E63qRRafEnBs"
   },
   "source": [
    "## 5. Conclusões finais\n",
    "\n",
    "Ufa!!... Chegamos ao final. Parabéns! De forma simplificada e completa, passamos por todas as etapas de um projeto de aprendizado de maquina. Outras etapas podem ser adicionadas no tratamento dos dados e desenvolvimento do modelo.\n"
   ]
  },
  {
   "cell_type": "markdown",
   "metadata": {
    "id": "FDQj8s1BEnBs"
   },
   "source": [
    "**Pergunta:**: O modelo desenvolvido obteve um resultado satisfatório? Justifique:\n",
    "\n",
    "**Resposta**: Não muito, não foi possivel fazer previsões precisas"
   ]
  },
  {
   "cell_type": "markdown",
   "metadata": {
    "id": "fGAi3gxnEnBs"
   },
   "source": [
    "**Pergunta:**: O que faria diferente para melhorar resultado obtido? Justifique:\n",
    "\n",
    "**Resposta**: Melhor analise de dados\n"
   ]
  },
  {
   "cell_type": "code",
   "execution_count": null,
   "metadata": {},
   "outputs": [],
   "source": []
  }
 ],
 "metadata": {
  "colab": {
   "name": "CheckPoint.ipynb",
   "provenance": []
  },
  "interpreter": {
   "hash": "916dbcbb3f70747c44a77c7bcd40155683ae19c65e1c03b4aa3499c5328201f1"
  },
  "kernelspec": {
   "display_name": "Python 3 (ipykernel)",
   "language": "python",
   "name": "python3"
  },
  "language_info": {
   "codemirror_mode": {
    "name": "ipython",
    "version": 3
   },
   "file_extension": ".py",
   "mimetype": "text/x-python",
   "name": "python",
   "nbconvert_exporter": "python",
   "pygments_lexer": "ipython3",
   "version": "3.9.2"
  }
 },
 "nbformat": 4,
 "nbformat_minor": 1
}
